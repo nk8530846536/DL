{
 "cells": [
  {
   "cell_type": "markdown",
   "id": "9300d6ef",
   "metadata": {},
   "source": [
    "## Name: Nikhil Vikas Kale\n",
    "### Roll No.: 039\n",
    "### Subject: LP-IV(DL)\n",
    "### Experiment No.05"
   ]
  },
  {
   "cell_type": "code",
   "execution_count": 1,
   "id": "83ed39d7",
   "metadata": {
    "id": "83ed39d7"
   },
   "outputs": [],
   "source": [
    "import numpy as np\n",
    "import tensorflow as tf\n",
    "\n",
    "import keras.backend as K\n",
    "from tensorflow.keras.models import Sequential\n",
    "from keras.layers import Dense, Embedding, Lambda\n",
    "from keras.utils import np_utils\n",
    "from keras.preprocessing import sequence\n",
    "from keras.preprocessing.text import Tokenizer\n",
    "import gensim"
   ]
  },
  {
   "cell_type": "code",
   "execution_count": 2,
   "id": "66499ab1",
   "metadata": {
    "id": "66499ab1"
   },
   "outputs": [],
   "source": [
    "data=open('covid.txt','r')\n",
    "corona_data = [text for text in data if text.count(' ') >= 2]\n",
    "vectorize = Tokenizer()\n",
    "vectorize.fit_on_texts(corona_data)\n",
    "corona_data = vectorize.texts_to_sequences(corona_data)\n",
    "total_vocab = sum(len(s) for s in corona_data)\n",
    "word_count = len(vectorize.word_index) + 1\n",
    "window_size = 2"
   ]
  },
  {
   "cell_type": "code",
   "execution_count": 3,
   "id": "72c75501",
   "metadata": {
    "id": "72c75501"
   },
   "outputs": [],
   "source": [
    "def cbow_model(data, window_size, total_vocab):\n",
    "    total_length = window_size*2\n",
    "    for text in data:\n",
    "        text_len = len(text)\n",
    "        for idx, word in enumerate(text):\n",
    "            context_word = []\n",
    "            target   = []            \n",
    "            begin = idx - window_size\n",
    "            end = idx + window_size + 1\n",
    "            context_word.append([text[i] for i in range(begin, end) if 0 <= i < text_len and i != idx])\n",
    "            target.append(word)\n",
    "            contextual = sequence.pad_sequences(context_word, total_length=total_length)\n",
    "            final_target = np_utils.to_categorical(target, total_vocab)\n",
    "            yield(contextual, final_target)\n"
   ]
  },
  {
   "cell_type": "code",
   "execution_count": 4,
   "id": "7909e9b1",
   "metadata": {
    "colab": {
     "base_uri": "https://localhost:8080/"
    },
    "id": "7909e9b1",
    "outputId": "a09de2fa-590b-4eda-cf60-d399371c36dd"
   },
   "outputs": [
    {
     "name": "stdout",
     "output_type": "stream",
     "text": [
      "0 0\n",
      "1 0\n",
      "2 0\n",
      "3 0\n",
      "4 0\n",
      "5 0\n",
      "6 0\n",
      "7 0\n",
      "8 0\n",
      "9 0\n",
      "10 0\n",
      "11 0\n",
      "12 0\n",
      "13 0\n",
      "14 0\n",
      "15 0\n",
      "16 0\n",
      "17 0\n",
      "18 0\n",
      "19 0\n"
     ]
    }
   ],
   "source": [
    "            model = Sequential()\n",
    "            model.add(Embedding(input_dim=total_vocab, output_dim=100, input_length=window_size*2))\n",
    "            model.add(Lambda(lambda x: K.mean(x, axis=1), output_shape=(100,)))\n",
    "            model.add(Dense(total_vocab, activation='softmax'))\n",
    "            model.compile(loss='categorical_crossentropy', optimizer='adam')\n",
    "            for i in range(20):\n",
    "              cost = 0\n",
    "              for x, y in cbow_model(data, window_size, total_vocab):\n",
    "                  cost += model.train_on_batch(contextual, final_target)\n",
    "              print(i, cost)"
   ]
  },
  {
   "cell_type": "code",
   "execution_count": 6,
   "id": "8b1290f4",
   "metadata": {
    "colab": {
     "base_uri": "https://localhost:8080/"
    },
    "id": "8b1290f4",
    "outputId": "debec653-dce7-4d96-f22d-0ad25962b5de"
   },
   "outputs": [
    {
     "data": {
      "text/plain": [
       "8"
      ]
     },
     "execution_count": 6,
     "metadata": {},
     "output_type": "execute_result"
    }
   ],
   "source": [
    "dimensions=100\n",
    "vect_file = open('vectors.txt' ,'w')\n",
    "vect_file.write('{} {}\\n'.format(101,dimensions))"
   ]
  },
  {
   "cell_type": "code",
   "execution_count": 7,
   "id": "5fe87f1a",
   "metadata": {
    "id": "5fe87f1a"
   },
   "outputs": [],
   "source": [
    "weights = model.get_weights()[0]\n",
    "for text, i in vectorize.word_index.items():\n",
    "    final_vec = ' '.join(map(str, list(weights[i, :])))\n",
    "    vect_file.write('{} {}\\n'.format(text, final_vec))\n",
    "vect_file.close()"
   ]
  },
  {
   "cell_type": "code",
   "execution_count": 8,
   "id": "aee2ff77",
   "metadata": {
    "colab": {
     "base_uri": "https://localhost:8080/"
    },
    "id": "aee2ff77",
    "outputId": "254cc610-0a1e-4306-95a2-0226d2bfe96c"
   },
   "outputs": [
    {
     "data": {
      "text/plain": [
       "[('major', 0.22424155473709106),\n",
       " ('interval', 0.20345881581306458),\n",
       " ('comparisons', 0.18844696879386902),\n",
       " ('context', 0.1527441143989563),\n",
       " ('we', 0.14537940919399261),\n",
       " ('hours', 0.13942013680934906),\n",
       " ('means', 0.13202230632305145),\n",
       " ('appearance', 0.1319347321987152),\n",
       " ('transmission', 0.126478374004364),\n",
       " ('generated', 0.12443778663873672)]"
      ]
     },
     "execution_count": 8,
     "metadata": {},
     "output_type": "execute_result"
    }
   ],
   "source": [
    "cbow_output = gensim.models.KeyedVectors.load_word2vec_format('vectors.txt', binary=False)\n",
    "cbow_output.most_similar(positive=['virus'])"
   ]
  },
  {
   "cell_type": "code",
   "execution_count": null,
   "id": "820dcacd",
   "metadata": {
    "id": "820dcacd"
   },
   "outputs": [],
   "source": []
  }
 ],
 "metadata": {
  "colab": {
   "provenance": []
  },
  "kernelspec": {
   "display_name": "Python 3 (ipykernel)",
   "language": "python",
   "name": "python3"
  },
  "language_info": {
   "codemirror_mode": {
    "name": "ipython",
    "version": 3
   },
   "file_extension": ".py",
   "mimetype": "text/x-python",
   "name": "python",
   "nbconvert_exporter": "python",
   "pygments_lexer": "ipython3",
   "version": "3.9.13"
  }
 },
 "nbformat": 4,
 "nbformat_minor": 5
}
